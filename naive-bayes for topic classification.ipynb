{
 "cells": [
  {
   "cell_type": "markdown",
   "id": "7de1a7ff",
   "metadata": {},
   "source": [
    "Yay lets do this!"
   ]
  },
  {
   "cell_type": "code",
   "execution_count": 2,
   "id": "4190cf96",
   "metadata": {},
   "outputs": [],
   "source": [
    "import numpy as np, pandas as pd\n",
    "import seaborn as sns\n",
    "import matplotlib.pyplot as plt\n",
    "from sklearn.feature_extraction.text import TfidfVectorizer\n",
    "from sklearn.naive_bayes import MultinomialNB\n",
    "from sklearn.pipeline import make_pipeline\n",
    "from sklearn.metrics import confusion_matrix, accuracy_score"
   ]
  },
  {
   "cell_type": "code",
   "execution_count": 3,
   "id": "7b8c2316",
   "metadata": {},
   "outputs": [],
   "source": [
    "sns.set() "
   ]
  },
  {
   "cell_type": "code",
   "execution_count": 4,
   "id": "5b4ccdf4",
   "metadata": {},
   "outputs": [],
   "source": [
    "problem_categories = ['boiler heater', 'thermostat', 'supply', 'meter', 'account', 'payment', 'struggling to pay', 'high risk']\n",
    "\n",
    "train_data = 'ok' # get the training data this should be a list of the phrases and which category they are in\n",
    "\n",
    "test_data = 'ok 2' #test data should be a list of tester phrases\n",
    "\n"
   ]
  },
  {
   "cell_type": "code",
   "execution_count": 5,
   "id": "9003fb2c",
   "metadata": {},
   "outputs": [],
   "source": [
    "model = make_pipeline(TfidfVectorizer(), MultinomialNB())\n",
    "\n",
    "model.fit(train_data#data, train_data#target_values)\n",
    "#predicted_val = predict_proba(X)\n",
    "          \n",
    "predicted_categories = model.predict(test_data)"
   ]
  },
  {
   "cell_type": "code",
   "execution_count": null,
   "id": "c1aa4afd",
   "metadata": {},
   "outputs": [],
   "source": []
  }
 ],
 "metadata": {
  "kernelspec": {
   "display_name": "Python 3 (ipykernel)",
   "language": "python",
   "name": "python3"
  },
  "language_info": {
   "codemirror_mode": {
    "name": "ipython",
    "version": 3
   },
   "file_extension": ".py",
   "mimetype": "text/x-python",
   "name": "python",
   "nbconvert_exporter": "python",
   "pygments_lexer": "ipython3",
   "version": "3.9.12"
  }
 },
 "nbformat": 4,
 "nbformat_minor": 5
}
