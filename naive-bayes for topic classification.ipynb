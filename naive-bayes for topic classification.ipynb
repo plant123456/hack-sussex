{
 "cells": [
  {
   "cell_type": "markdown",
   "id": "7de1a7ff",
   "metadata": {},
   "source": [
    "Yay lets do this!"
   ]
  },
  {
   "cell_type": "code",
   "execution_count": 7,
   "id": "4190cf96",
   "metadata": {},
   "outputs": [],
   "source": [
    "import pandas as pd\n",
    "import numpy as np\n",
    "from sklearn.feature_extraction.text import CountVectorizer\n",
    "from sklearn.model_selection import train_test_split\n",
    "from sklearn.naive_bayes import MultinomialNB\n",
    "from sklearn.metrics import accuracy_score\n",
    "from sklearn.metrics import classification_report\n",
    "from sklearn.metrics import f1_score\n",
    "import categorypy as data"
   ]
  },
  {
   "cell_type": "code",
   "execution_count": 59,
   "id": "5b4ccdf4",
   "metadata": {},
   "outputs": [],
   "source": [
    "\n",
    "    problem_categories = ['boiler heater', 'thermostat', 'supply', 'meter', 'account', 'payment', 'struggling to pay', 'high risk']\n",
    "    train_data = data.dataframe()# get the training data this should be a list of the phrases and which category they are in\n",
    "    train_values = pd.Series(train_data['Questions'])\n",
    "    train_results = pd.Series(train_data['Category'])\n",
    "    count_vec = CountVectorizer()\n",
    "    bow = count_vec.fit_transform(train_values.values.astype('U'))\n",
    "    bow = np.array(bow.todense())\n",
    "    X = bow\n",
    "    y = train_results\n",
    "    \n"
   ]
  },
  {
   "cell_type": "code",
   "execution_count": 60,
   "id": "01ae5d09",
   "metadata": {},
   "outputs": [],
   "source": [
    "X_train, X_test, y_train, y_test = train_test_split(X, y, \n",
    "                                                    test_size=0.2, \n",
    "                                                    stratify=y)"
   ]
  },
  {
   "cell_type": "code",
   "execution_count": 61,
   "id": "cc9c6e03",
   "metadata": {},
   "outputs": [],
   "source": [
    "model = MultinomialNB().fit(X_train, y_train)"
   ]
  },
  {
   "cell_type": "code",
   "execution_count": 62,
   "id": "9003fb2c",
   "metadata": {},
   "outputs": [],
   "source": [
    "y_pred = model.predict(X_test)"
   ]
  },
  {
   "cell_type": "code",
   "execution_count": 63,
   "id": "c1aa4afd",
   "metadata": {},
   "outputs": [
    {
     "name": "stdout",
     "output_type": "stream",
     "text": [
      "Accuracy: 0.5\n",
      "F1 score: 0.32857142857142857\n"
     ]
    }
   ],
   "source": [
    "print('Accuracy:', accuracy_score(y_test, y_pred))\n",
    "print('F1 score:', f1_score(y_test, y_pred, average=\"macro\"))"
   ]
  }
 ],
 "metadata": {
  "kernelspec": {
   "display_name": "Python 3 (ipykernel)",
   "language": "python",
   "name": "python3"
  },
  "language_info": {
   "codemirror_mode": {
    "name": "ipython",
    "version": 3
   },
   "file_extension": ".py",
   "mimetype": "text/x-python",
   "name": "python",
   "nbconvert_exporter": "python",
   "pygments_lexer": "ipython3",
   "version": "3.9.12"
  }
 },
 "nbformat": 4,
 "nbformat_minor": 5
}
